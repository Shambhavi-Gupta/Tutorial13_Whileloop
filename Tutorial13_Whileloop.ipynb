{
  "nbformat": 4,
  "nbformat_minor": 0,
  "metadata": {
    "colab": {
      "name": "Tutorial13_Whileloop.ipynb",
      "provenance": [],
      "authorship_tag": "ABX9TyNcUfHbYMaaaiK2PrgfWhTV",
      "include_colab_link": true
    },
    "kernelspec": {
      "name": "python3",
      "display_name": "Python 3"
    }
  },
  "cells": [
    {
      "cell_type": "markdown",
      "metadata": {
        "id": "view-in-github",
        "colab_type": "text"
      },
      "source": [
        "<a href=\"https://colab.research.google.com/github/Shambhavi-Gupta/Tutorial13_Whileloop/blob/main/Tutorial13_Whileloop.ipynb\" target=\"_parent\"><img src=\"https://colab.research.google.com/assets/colab-badge.svg\" alt=\"Open In Colab\"/></a>"
      ]
    },
    {
      "cell_type": "code",
      "metadata": {
        "id": "ZONtC0lIpusp"
      },
      "source": [
        "a = 0\r\n",
        "while (a<45):\r\n",
        "    print(a , end = \" \")\r\n",
        "    a = a+1"
      ],
      "execution_count": null,
      "outputs": []
    }
  ]
}